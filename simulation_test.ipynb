{
 "cells": [
  {
   "cell_type": "markdown",
   "metadata": {},
   "source": [
    "Done by [Sasa Buklijas](http://buklijas.info/blog/)"
   ]
  },
  {
   "cell_type": "code",
   "execution_count": 4,
   "metadata": {},
   "outputs": [],
   "source": [
    "import ipywidgets as widgets\n",
    "import time"
   ]
  },
  {
   "cell_type": "code",
   "execution_count": 6,
   "metadata": {},
   "outputs": [
    {
     "data": {
      "application/vnd.jupyter.widget-view+json": {
       "model_id": "3b6f532c090249008f5aad64e7583175",
       "version_major": 2,
       "version_minor": 0
      },
      "text/plain": [
       "VBox(children=(HBox(children=(Label(value='Select number of games'), IntSlider(value=15, min=10))), HBox(child…"
      ]
     },
     "metadata": {},
     "output_type": "display_data"
    }
   ],
   "source": [
    "# method\n",
    "def start_game(event):\n",
    "    #button.disabled=True\n",
    "    button.description = 'STOP Simulation'\n",
    "    button.button_style='danger'    \n",
    "    slider.disabled=True\n",
    "    \n",
    "    progress.max = slider.value\n",
    "    for i in range(slider.value+1):\n",
    "        label2.value = '%s / %s' % (i, slider.value)\n",
    "        progress.value += 1\n",
    "        time.sleep(0.1)\n",
    "    \n",
    "    button.description = 'Start Simulation'\n",
    "    button.button_style='info'\n",
    "    slider.disabled=False\n",
    "    button.disabled=False\n",
    "    progress.value = 0\n",
    "    label2.value = ''\n",
    "    \n",
    "    \n",
    "# UI \n",
    "slider = widgets.IntSlider(min=10, max=100, value=15)\n",
    "label = widgets.Label(value='Select number of games')\n",
    "\n",
    "button = widgets.Button(description='Start Simulation', button_style='info', tooltip='Start Game')\n",
    "progress = widgets.IntProgress(description='Progress:')\n",
    "label2 = widgets.Label()\n",
    "\n",
    "# Interactions\n",
    "button.on_click(start_game)\n",
    "\n",
    "# UI Layout\n",
    "top_box = widgets.HBox([label, slider])\n",
    "down_box = widgets.HBox([button, progress, label2])\n",
    "widgets.VBox([top_box, down_box])"
   ]
  },
  {
   "cell_type": "code",
   "execution_count": null,
   "metadata": {},
   "outputs": [],
   "source": []
  }
 ],
 "metadata": {
  "kernelspec": {
   "display_name": "Python 3",
   "language": "python",
   "name": "python3"
  },
  "language_info": {
   "codemirror_mode": {
    "name": "ipython",
    "version": 3
   },
   "file_extension": ".py",
   "mimetype": "text/x-python",
   "name": "python",
   "nbconvert_exporter": "python",
   "pygments_lexer": "ipython3",
   "version": "3.6.5"
  }
 },
 "nbformat": 4,
 "nbformat_minor": 2
}
